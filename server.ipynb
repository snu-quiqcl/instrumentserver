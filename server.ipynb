{
 "cells": [
  {
   "cell_type": "code",
   "execution_count": 1,
   "metadata": {},
   "outputs": [],
   "source": [
    "from instrumentserver import Client"
   ]
  },
  {
   "cell_type": "code",
   "execution_count": 2,
   "metadata": {},
   "outputs": [
    {
     "name": "stdout",
     "output_type": "stream",
     "text": [
      "['dac16_rpc_sim']\n"
     ]
    }
   ],
   "source": [
    "client = Client()\n",
    "client.find_or_create_instrument(instrument_class=\"PCI6216V.PCI6216V_RPC_SIM\", name=\"dac16_rpc_sim\")\n",
    "print(client.list_instruments())\n",
    "dac16_rpc_sim = client.get_instrument(\"dac16_rpc_sim\")"
   ]
  },
  {
   "cell_type": "code",
   "execution_count": 3,
   "metadata": {},
   "outputs": [
    {
     "data": {
      "text/plain": [
       "{'dac16_rpc_sim.v0': None,\n",
       " 'dac16_rpc_sim.v1': None,\n",
       " 'dac16_rpc_sim.v2': None,\n",
       " 'dac16_rpc_sim.v3': None,\n",
       " 'dac16_rpc_sim.v4': None,\n",
       " 'dac16_rpc_sim.v5': None,\n",
       " 'dac16_rpc_sim.v6': None,\n",
       " 'dac16_rpc_sim.v7': None,\n",
       " 'dac16_rpc_sim.v8': None,\n",
       " 'dac16_rpc_sim.v9': None,\n",
       " 'dac16_rpc_sim.v10': None,\n",
       " 'dac16_rpc_sim.v11': None,\n",
       " 'dac16_rpc_sim.v12': None,\n",
       " 'dac16_rpc_sim.v13': None,\n",
       " 'dac16_rpc_sim.v14': None,\n",
       " 'dac16_rpc_sim.v15': None}"
      ]
     },
     "execution_count": 3,
     "metadata": {},
     "output_type": "execute_result"
    }
   ],
   "source": [
    "dac16_rpc_sim.getParamDict()"
   ]
  },
  {
   "cell_type": "code",
   "execution_count": null,
   "metadata": {},
   "outputs": [],
   "source": []
  }
 ],
 "metadata": {
  "kernelspec": {
   "display_name": "qcodes",
   "language": "python",
   "name": "python3"
  },
  "language_info": {
   "codemirror_mode": {
    "name": "ipython",
    "version": 3
   },
   "file_extension": ".py",
   "mimetype": "text/x-python",
   "name": "python",
   "nbconvert_exporter": "python",
   "pygments_lexer": "ipython3",
   "version": "3.12.4"
  }
 },
 "nbformat": 4,
 "nbformat_minor": 2
}
